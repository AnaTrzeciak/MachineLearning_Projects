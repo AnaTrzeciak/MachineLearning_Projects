{
 "cells": [
  {
   "cell_type": "code",
   "execution_count": 1,
   "id": "d3f9d386",
   "metadata": {
    "_cell_guid": "b1076dfc-b9ad-4769-8c92-a6c4dae69d19",
    "_uuid": "8f2839f25d086af736a60e9eeb907d3b93b6e0e5",
    "execution": {
     "iopub.execute_input": "2024-02-27T19:16:28.028035Z",
     "iopub.status.busy": "2024-02-27T19:16:28.027640Z",
     "iopub.status.idle": "2024-02-27T19:16:29.020769Z",
     "shell.execute_reply": "2024-02-27T19:16:29.019337Z"
    },
    "papermill": {
     "duration": 1.007978,
     "end_time": "2024-02-27T19:16:29.023388",
     "exception": false,
     "start_time": "2024-02-27T19:16:28.015410",
     "status": "completed"
    },
    "tags": []
   },
   "outputs": [
    {
     "name": "stdout",
     "output_type": "stream",
     "text": [
      "/kaggle/input/kinematics-motion-data/Kinematics_Data.csv\n"
     ]
    }
   ],
   "source": [
    "# This Python 3 environment comes with many helpful analytics libraries installed\n",
    "# It is defined by the kaggle/python Docker image: https://github.com/kaggle/docker-python\n",
    "# For example, here's several helpful packages to load\n",
    "\n",
    "import numpy as np # linear algebra\n",
    "import pandas as pd # data processing, CSV file I/O (e.g. pd.read_csv)\n",
    "\n",
    "# Input data files are available in the read-only \"../input/\" directory\n",
    "# For example, running this (by clicking run or pressing Shift+Enter) will list all files under the input directory\n",
    "\n",
    "import os\n",
    "for dirname, _, filenames in os.walk('/kaggle/input'):\n",
    "    for filename in filenames:\n",
    "        print(os.path.join(dirname, filename))\n",
    "\n",
    "# You can write up to 20GB to the current directory (/kaggle/working/) that gets preserved as output when you create a version using \"Save & Run All\" \n",
    "# You can also write temporary files to /kaggle/temp/, but they won't be saved outside of the current session"
   ]
  },
  {
   "cell_type": "markdown",
   "id": "22fdc214",
   "metadata": {
    "papermill": {
     "duration": 0.009926,
     "end_time": "2024-02-27T19:16:29.043347",
     "exception": false,
     "start_time": "2024-02-27T19:16:29.033421",
     "status": "completed"
    },
    "tags": []
   },
   "source": [
    " Dataset contains a single file which represents 88588 sensor data samples collected from accelerometer and gyroscope.\n",
    " \n",
    " Activity type represented by \"activity\" column which acts as label and reflects following activities:\n",
    "\n",
    " - \"0\": walking\n",
    " - \"1\": running\n",
    "\n",
    "- binary classification problem"
   ]
  },
  {
   "cell_type": "code",
   "execution_count": 2,
   "id": "b5f4b75f",
   "metadata": {
    "execution": {
     "iopub.execute_input": "2024-02-27T19:16:29.065342Z",
     "iopub.status.busy": "2024-02-27T19:16:29.064600Z",
     "iopub.status.idle": "2024-02-27T19:16:31.105001Z",
     "shell.execute_reply": "2024-02-27T19:16:31.103862Z"
    },
    "papermill": {
     "duration": 2.05475,
     "end_time": "2024-02-27T19:16:31.107945",
     "exception": false,
     "start_time": "2024-02-27T19:16:29.053195",
     "status": "completed"
    },
    "tags": []
   },
   "outputs": [],
   "source": [
    "import matplotlib.pyplot as plt\n",
    "import seaborn as sns\n",
    "from sklearn.model_selection import train_test_split\n",
    "from sklearn.metrics import mean_squared_error\n",
    "from sklearn.preprocessing import MinMaxScaler\n",
    "from sklearn.linear_model import LogisticRegression"
   ]
  },
  {
   "cell_type": "code",
   "execution_count": 3,
   "id": "7b869c8a",
   "metadata": {
    "execution": {
     "iopub.execute_input": "2024-02-27T19:16:31.129752Z",
     "iopub.status.busy": "2024-02-27T19:16:31.129300Z",
     "iopub.status.idle": "2024-02-27T19:16:31.491921Z",
     "shell.execute_reply": "2024-02-27T19:16:31.490835Z"
    },
    "papermill": {
     "duration": 0.376383,
     "end_time": "2024-02-27T19:16:31.494464",
     "exception": false,
     "start_time": "2024-02-27T19:16:31.118081",
     "status": "completed"
    },
    "tags": []
   },
   "outputs": [
    {
     "data": {
      "text/html": [
       "<div>\n",
       "<style scoped>\n",
       "    .dataframe tbody tr th:only-of-type {\n",
       "        vertical-align: middle;\n",
       "    }\n",
       "\n",
       "    .dataframe tbody tr th {\n",
       "        vertical-align: top;\n",
       "    }\n",
       "\n",
       "    .dataframe thead th {\n",
       "        text-align: right;\n",
       "    }\n",
       "</style>\n",
       "<table border=\"1\" class=\"dataframe\">\n",
       "  <thead>\n",
       "    <tr style=\"text-align: right;\">\n",
       "      <th></th>\n",
       "      <th>date</th>\n",
       "      <th>time</th>\n",
       "      <th>username</th>\n",
       "      <th>wrist</th>\n",
       "      <th>activity</th>\n",
       "      <th>acceleration_x</th>\n",
       "      <th>acceleration_y</th>\n",
       "      <th>acceleration_z</th>\n",
       "      <th>gyro_x</th>\n",
       "      <th>gyro_y</th>\n",
       "      <th>gyro_z</th>\n",
       "    </tr>\n",
       "  </thead>\n",
       "  <tbody>\n",
       "    <tr>\n",
       "      <th>0</th>\n",
       "      <td>2017-6-30</td>\n",
       "      <td>13:51:15:847724020</td>\n",
       "      <td>viktor</td>\n",
       "      <td>0</td>\n",
       "      <td>0</td>\n",
       "      <td>0.2650</td>\n",
       "      <td>-0.7814</td>\n",
       "      <td>-0.0076</td>\n",
       "      <td>-0.0590</td>\n",
       "      <td>0.0325</td>\n",
       "      <td>-2.9296</td>\n",
       "    </tr>\n",
       "    <tr>\n",
       "      <th>1</th>\n",
       "      <td>2017-6-30</td>\n",
       "      <td>13:51:16:246945023</td>\n",
       "      <td>viktor</td>\n",
       "      <td>0</td>\n",
       "      <td>0</td>\n",
       "      <td>0.6722</td>\n",
       "      <td>-1.1233</td>\n",
       "      <td>-0.2344</td>\n",
       "      <td>-0.1757</td>\n",
       "      <td>0.0208</td>\n",
       "      <td>0.1269</td>\n",
       "    </tr>\n",
       "    <tr>\n",
       "      <th>2</th>\n",
       "      <td>2017-6-30</td>\n",
       "      <td>13:51:16:446233987</td>\n",
       "      <td>viktor</td>\n",
       "      <td>0</td>\n",
       "      <td>0</td>\n",
       "      <td>0.4399</td>\n",
       "      <td>-1.4817</td>\n",
       "      <td>0.0722</td>\n",
       "      <td>-0.9105</td>\n",
       "      <td>0.1063</td>\n",
       "      <td>-2.4367</td>\n",
       "    </tr>\n",
       "    <tr>\n",
       "      <th>3</th>\n",
       "      <td>2017-6-30</td>\n",
       "      <td>13:51:16:646117985</td>\n",
       "      <td>viktor</td>\n",
       "      <td>0</td>\n",
       "      <td>0</td>\n",
       "      <td>0.3031</td>\n",
       "      <td>-0.8125</td>\n",
       "      <td>0.0888</td>\n",
       "      <td>0.1199</td>\n",
       "      <td>-0.4099</td>\n",
       "      <td>-2.9336</td>\n",
       "    </tr>\n",
       "    <tr>\n",
       "      <th>4</th>\n",
       "      <td>2017-6-30</td>\n",
       "      <td>13:51:16:846738994</td>\n",
       "      <td>viktor</td>\n",
       "      <td>0</td>\n",
       "      <td>0</td>\n",
       "      <td>0.4814</td>\n",
       "      <td>-0.9312</td>\n",
       "      <td>0.0359</td>\n",
       "      <td>0.0527</td>\n",
       "      <td>0.4379</td>\n",
       "      <td>2.4922</td>\n",
       "    </tr>\n",
       "    <tr>\n",
       "      <th>5</th>\n",
       "      <td>2017-6-30</td>\n",
       "      <td>13:51:17:46806991</td>\n",
       "      <td>viktor</td>\n",
       "      <td>0</td>\n",
       "      <td>0</td>\n",
       "      <td>0.4044</td>\n",
       "      <td>-0.8056</td>\n",
       "      <td>-0.0956</td>\n",
       "      <td>0.6925</td>\n",
       "      <td>-0.2179</td>\n",
       "      <td>2.5750</td>\n",
       "    </tr>\n",
       "    <tr>\n",
       "      <th>6</th>\n",
       "      <td>2017-6-30</td>\n",
       "      <td>13:51:17:246767997</td>\n",
       "      <td>viktor</td>\n",
       "      <td>0</td>\n",
       "      <td>0</td>\n",
       "      <td>0.6320</td>\n",
       "      <td>-1.1290</td>\n",
       "      <td>-0.2982</td>\n",
       "      <td>0.0548</td>\n",
       "      <td>-0.1896</td>\n",
       "      <td>0.4473</td>\n",
       "    </tr>\n",
       "    <tr>\n",
       "      <th>7</th>\n",
       "      <td>2017-6-30</td>\n",
       "      <td>13:51:17:446569025</td>\n",
       "      <td>viktor</td>\n",
       "      <td>0</td>\n",
       "      <td>0</td>\n",
       "      <td>0.6670</td>\n",
       "      <td>-1.3503</td>\n",
       "      <td>-0.0880</td>\n",
       "      <td>-0.8094</td>\n",
       "      <td>-0.7938</td>\n",
       "      <td>-1.4348</td>\n",
       "    </tr>\n",
       "    <tr>\n",
       "      <th>8</th>\n",
       "      <td>2017-6-30</td>\n",
       "      <td>13:51:17:646152973</td>\n",
       "      <td>viktor</td>\n",
       "      <td>0</td>\n",
       "      <td>0</td>\n",
       "      <td>0.2704</td>\n",
       "      <td>-0.8633</td>\n",
       "      <td>0.1293</td>\n",
       "      <td>-0.4173</td>\n",
       "      <td>-0.1904</td>\n",
       "      <td>-2.6759</td>\n",
       "    </tr>\n",
       "    <tr>\n",
       "      <th>9</th>\n",
       "      <td>2017-6-30</td>\n",
       "      <td>13:51:17:846502006</td>\n",
       "      <td>viktor</td>\n",
       "      <td>0</td>\n",
       "      <td>0</td>\n",
       "      <td>0.4690</td>\n",
       "      <td>-1.0740</td>\n",
       "      <td>0.0219</td>\n",
       "      <td>0.0388</td>\n",
       "      <td>1.1491</td>\n",
       "      <td>1.6982</td>\n",
       "    </tr>\n",
       "  </tbody>\n",
       "</table>\n",
       "</div>"
      ],
      "text/plain": [
       "        date                time username  wrist  activity  acceleration_x  \\\n",
       "0  2017-6-30  13:51:15:847724020   viktor      0         0          0.2650   \n",
       "1  2017-6-30  13:51:16:246945023   viktor      0         0          0.6722   \n",
       "2  2017-6-30  13:51:16:446233987   viktor      0         0          0.4399   \n",
       "3  2017-6-30  13:51:16:646117985   viktor      0         0          0.3031   \n",
       "4  2017-6-30  13:51:16:846738994   viktor      0         0          0.4814   \n",
       "5  2017-6-30   13:51:17:46806991   viktor      0         0          0.4044   \n",
       "6  2017-6-30  13:51:17:246767997   viktor      0         0          0.6320   \n",
       "7  2017-6-30  13:51:17:446569025   viktor      0         0          0.6670   \n",
       "8  2017-6-30  13:51:17:646152973   viktor      0         0          0.2704   \n",
       "9  2017-6-30  13:51:17:846502006   viktor      0         0          0.4690   \n",
       "\n",
       "   acceleration_y  acceleration_z  gyro_x  gyro_y  gyro_z  \n",
       "0         -0.7814         -0.0076 -0.0590  0.0325 -2.9296  \n",
       "1         -1.1233         -0.2344 -0.1757  0.0208  0.1269  \n",
       "2         -1.4817          0.0722 -0.9105  0.1063 -2.4367  \n",
       "3         -0.8125          0.0888  0.1199 -0.4099 -2.9336  \n",
       "4         -0.9312          0.0359  0.0527  0.4379  2.4922  \n",
       "5         -0.8056         -0.0956  0.6925 -0.2179  2.5750  \n",
       "6         -1.1290         -0.2982  0.0548 -0.1896  0.4473  \n",
       "7         -1.3503         -0.0880 -0.8094 -0.7938 -1.4348  \n",
       "8         -0.8633          0.1293 -0.4173 -0.1904 -2.6759  \n",
       "9         -1.0740          0.0219  0.0388  1.1491  1.6982  "
      ]
     },
     "execution_count": 3,
     "metadata": {},
     "output_type": "execute_result"
    }
   ],
   "source": [
    "data = pd.read_csv('/kaggle/input/kinematics-motion-data/Kinematics_Data.csv')\n",
    "data.head(10)"
   ]
  },
  {
   "cell_type": "code",
   "execution_count": 4,
   "id": "c791f122",
   "metadata": {
    "execution": {
     "iopub.execute_input": "2024-02-27T19:16:31.517055Z",
     "iopub.status.busy": "2024-02-27T19:16:31.516153Z",
     "iopub.status.idle": "2024-02-27T19:16:31.522932Z",
     "shell.execute_reply": "2024-02-27T19:16:31.521878Z"
    },
    "papermill": {
     "duration": 0.021225,
     "end_time": "2024-02-27T19:16:31.525869",
     "exception": false,
     "start_time": "2024-02-27T19:16:31.504644",
     "status": "completed"
    },
    "tags": []
   },
   "outputs": [
    {
     "data": {
      "text/plain": [
       "(88588, 11)"
      ]
     },
     "execution_count": 4,
     "metadata": {},
     "output_type": "execute_result"
    }
   ],
   "source": [
    "data.shape"
   ]
  },
  {
   "cell_type": "code",
   "execution_count": 5,
   "id": "a7a1bd57",
   "metadata": {
    "execution": {
     "iopub.execute_input": "2024-02-27T19:16:31.548877Z",
     "iopub.status.busy": "2024-02-27T19:16:31.548206Z",
     "iopub.status.idle": "2024-02-27T19:16:31.611980Z",
     "shell.execute_reply": "2024-02-27T19:16:31.610493Z"
    },
    "papermill": {
     "duration": 0.077932,
     "end_time": "2024-02-27T19:16:31.614422",
     "exception": false,
     "start_time": "2024-02-27T19:16:31.536490",
     "status": "completed"
    },
    "tags": []
   },
   "outputs": [
    {
     "name": "stdout",
     "output_type": "stream",
     "text": [
      "<class 'pandas.core.frame.DataFrame'>\n",
      "RangeIndex: 88588 entries, 0 to 88587\n",
      "Data columns (total 11 columns):\n",
      " #   Column          Non-Null Count  Dtype  \n",
      "---  ------          --------------  -----  \n",
      " 0   date            88588 non-null  object \n",
      " 1   time            88588 non-null  object \n",
      " 2   username        88588 non-null  object \n",
      " 3   wrist           88588 non-null  int64  \n",
      " 4   activity        88588 non-null  int64  \n",
      " 5   acceleration_x  88588 non-null  float64\n",
      " 6   acceleration_y  88588 non-null  float64\n",
      " 7   acceleration_z  88588 non-null  float64\n",
      " 8   gyro_x          88588 non-null  float64\n",
      " 9   gyro_y          88588 non-null  float64\n",
      " 10  gyro_z          88588 non-null  float64\n",
      "dtypes: float64(6), int64(2), object(3)\n",
      "memory usage: 7.4+ MB\n"
     ]
    }
   ],
   "source": [
    "data.info()"
   ]
  },
  {
   "cell_type": "code",
   "execution_count": 6,
   "id": "3b7d4fd5",
   "metadata": {
    "execution": {
     "iopub.execute_input": "2024-02-27T19:16:31.637365Z",
     "iopub.status.busy": "2024-02-27T19:16:31.636963Z",
     "iopub.status.idle": "2024-02-27T19:16:31.699041Z",
     "shell.execute_reply": "2024-02-27T19:16:31.697788Z"
    },
    "papermill": {
     "duration": 0.076701,
     "end_time": "2024-02-27T19:16:31.701559",
     "exception": false,
     "start_time": "2024-02-27T19:16:31.624858",
     "status": "completed"
    },
    "tags": []
   },
   "outputs": [
    {
     "data": {
      "text/html": [
       "<div>\n",
       "<style scoped>\n",
       "    .dataframe tbody tr th:only-of-type {\n",
       "        vertical-align: middle;\n",
       "    }\n",
       "\n",
       "    .dataframe tbody tr th {\n",
       "        vertical-align: top;\n",
       "    }\n",
       "\n",
       "    .dataframe thead th {\n",
       "        text-align: right;\n",
       "    }\n",
       "</style>\n",
       "<table border=\"1\" class=\"dataframe\">\n",
       "  <thead>\n",
       "    <tr style=\"text-align: right;\">\n",
       "      <th></th>\n",
       "      <th>wrist</th>\n",
       "      <th>activity</th>\n",
       "      <th>acceleration_x</th>\n",
       "      <th>acceleration_y</th>\n",
       "      <th>acceleration_z</th>\n",
       "      <th>gyro_x</th>\n",
       "      <th>gyro_y</th>\n",
       "      <th>gyro_z</th>\n",
       "    </tr>\n",
       "  </thead>\n",
       "  <tbody>\n",
       "    <tr>\n",
       "      <th>count</th>\n",
       "      <td>88588.000000</td>\n",
       "      <td>88588.000000</td>\n",
       "      <td>88588.000000</td>\n",
       "      <td>88588.000000</td>\n",
       "      <td>88588.000000</td>\n",
       "      <td>88588.000000</td>\n",
       "      <td>88588.000000</td>\n",
       "      <td>88588.000000</td>\n",
       "    </tr>\n",
       "    <tr>\n",
       "      <th>mean</th>\n",
       "      <td>0.522170</td>\n",
       "      <td>0.500801</td>\n",
       "      <td>-0.074811</td>\n",
       "      <td>-0.562585</td>\n",
       "      <td>-0.313956</td>\n",
       "      <td>0.004160</td>\n",
       "      <td>0.037203</td>\n",
       "      <td>0.022327</td>\n",
       "    </tr>\n",
       "    <tr>\n",
       "      <th>std</th>\n",
       "      <td>0.499511</td>\n",
       "      <td>0.500002</td>\n",
       "      <td>1.009299</td>\n",
       "      <td>0.658458</td>\n",
       "      <td>0.486815</td>\n",
       "      <td>1.253423</td>\n",
       "      <td>1.198725</td>\n",
       "      <td>1.914423</td>\n",
       "    </tr>\n",
       "    <tr>\n",
       "      <th>min</th>\n",
       "      <td>0.000000</td>\n",
       "      <td>0.000000</td>\n",
       "      <td>-5.350500</td>\n",
       "      <td>-3.299000</td>\n",
       "      <td>-3.753800</td>\n",
       "      <td>-4.430600</td>\n",
       "      <td>-7.464700</td>\n",
       "      <td>-9.480000</td>\n",
       "    </tr>\n",
       "    <tr>\n",
       "      <th>25%</th>\n",
       "      <td>0.000000</td>\n",
       "      <td>0.000000</td>\n",
       "      <td>-0.381800</td>\n",
       "      <td>-1.033500</td>\n",
       "      <td>-0.376000</td>\n",
       "      <td>-0.920700</td>\n",
       "      <td>-0.644825</td>\n",
       "      <td>-1.345125</td>\n",
       "    </tr>\n",
       "    <tr>\n",
       "      <th>50%</th>\n",
       "      <td>1.000000</td>\n",
       "      <td>1.000000</td>\n",
       "      <td>-0.059500</td>\n",
       "      <td>-0.759100</td>\n",
       "      <td>-0.221000</td>\n",
       "      <td>0.018700</td>\n",
       "      <td>0.039300</td>\n",
       "      <td>0.006900</td>\n",
       "    </tr>\n",
       "    <tr>\n",
       "      <th>75%</th>\n",
       "      <td>1.000000</td>\n",
       "      <td>1.000000</td>\n",
       "      <td>0.355500</td>\n",
       "      <td>-0.241775</td>\n",
       "      <td>-0.085900</td>\n",
       "      <td>0.888800</td>\n",
       "      <td>0.733700</td>\n",
       "      <td>1.398200</td>\n",
       "    </tr>\n",
       "    <tr>\n",
       "      <th>max</th>\n",
       "      <td>1.000000</td>\n",
       "      <td>1.000000</td>\n",
       "      <td>5.603300</td>\n",
       "      <td>2.668000</td>\n",
       "      <td>1.640300</td>\n",
       "      <td>4.874200</td>\n",
       "      <td>8.498000</td>\n",
       "      <td>11.266200</td>\n",
       "    </tr>\n",
       "  </tbody>\n",
       "</table>\n",
       "</div>"
      ],
      "text/plain": [
       "              wrist      activity  acceleration_x  acceleration_y  \\\n",
       "count  88588.000000  88588.000000    88588.000000    88588.000000   \n",
       "mean       0.522170      0.500801       -0.074811       -0.562585   \n",
       "std        0.499511      0.500002        1.009299        0.658458   \n",
       "min        0.000000      0.000000       -5.350500       -3.299000   \n",
       "25%        0.000000      0.000000       -0.381800       -1.033500   \n",
       "50%        1.000000      1.000000       -0.059500       -0.759100   \n",
       "75%        1.000000      1.000000        0.355500       -0.241775   \n",
       "max        1.000000      1.000000        5.603300        2.668000   \n",
       "\n",
       "       acceleration_z        gyro_x        gyro_y        gyro_z  \n",
       "count    88588.000000  88588.000000  88588.000000  88588.000000  \n",
       "mean        -0.313956      0.004160      0.037203      0.022327  \n",
       "std          0.486815      1.253423      1.198725      1.914423  \n",
       "min         -3.753800     -4.430600     -7.464700     -9.480000  \n",
       "25%         -0.376000     -0.920700     -0.644825     -1.345125  \n",
       "50%         -0.221000      0.018700      0.039300      0.006900  \n",
       "75%         -0.085900      0.888800      0.733700      1.398200  \n",
       "max          1.640300      4.874200      8.498000     11.266200  "
      ]
     },
     "execution_count": 6,
     "metadata": {},
     "output_type": "execute_result"
    }
   ],
   "source": [
    "data.describe()"
   ]
  },
  {
   "cell_type": "code",
   "execution_count": 7,
   "id": "81eb9787",
   "metadata": {
    "execution": {
     "iopub.execute_input": "2024-02-27T19:16:31.726297Z",
     "iopub.status.busy": "2024-02-27T19:16:31.725345Z",
     "iopub.status.idle": "2024-02-27T19:16:31.759629Z",
     "shell.execute_reply": "2024-02-27T19:16:31.758594Z"
    },
    "papermill": {
     "duration": 0.048863,
     "end_time": "2024-02-27T19:16:31.762156",
     "exception": false,
     "start_time": "2024-02-27T19:16:31.713293",
     "status": "completed"
    },
    "tags": []
   },
   "outputs": [
    {
     "data": {
      "text/html": [
       "<div>\n",
       "<style scoped>\n",
       "    .dataframe tbody tr th:only-of-type {\n",
       "        vertical-align: middle;\n",
       "    }\n",
       "\n",
       "    .dataframe tbody tr th {\n",
       "        vertical-align: top;\n",
       "    }\n",
       "\n",
       "    .dataframe thead th {\n",
       "        text-align: right;\n",
       "    }\n",
       "</style>\n",
       "<table border=\"1\" class=\"dataframe\">\n",
       "  <thead>\n",
       "    <tr style=\"text-align: right;\">\n",
       "      <th></th>\n",
       "      <th>wrist</th>\n",
       "      <th>activity</th>\n",
       "      <th>acceleration_x</th>\n",
       "      <th>acceleration_y</th>\n",
       "      <th>acceleration_z</th>\n",
       "      <th>gyro_x</th>\n",
       "      <th>gyro_y</th>\n",
       "      <th>gyro_z</th>\n",
       "    </tr>\n",
       "  </thead>\n",
       "  <tbody>\n",
       "    <tr>\n",
       "      <th>0</th>\n",
       "      <td>0</td>\n",
       "      <td>0</td>\n",
       "      <td>0.2650</td>\n",
       "      <td>-0.7814</td>\n",
       "      <td>-0.0076</td>\n",
       "      <td>-0.0590</td>\n",
       "      <td>0.0325</td>\n",
       "      <td>-2.9296</td>\n",
       "    </tr>\n",
       "    <tr>\n",
       "      <th>1</th>\n",
       "      <td>0</td>\n",
       "      <td>0</td>\n",
       "      <td>0.6722</td>\n",
       "      <td>-1.1233</td>\n",
       "      <td>-0.2344</td>\n",
       "      <td>-0.1757</td>\n",
       "      <td>0.0208</td>\n",
       "      <td>0.1269</td>\n",
       "    </tr>\n",
       "    <tr>\n",
       "      <th>2</th>\n",
       "      <td>0</td>\n",
       "      <td>0</td>\n",
       "      <td>0.4399</td>\n",
       "      <td>-1.4817</td>\n",
       "      <td>0.0722</td>\n",
       "      <td>-0.9105</td>\n",
       "      <td>0.1063</td>\n",
       "      <td>-2.4367</td>\n",
       "    </tr>\n",
       "    <tr>\n",
       "      <th>3</th>\n",
       "      <td>0</td>\n",
       "      <td>0</td>\n",
       "      <td>0.3031</td>\n",
       "      <td>-0.8125</td>\n",
       "      <td>0.0888</td>\n",
       "      <td>0.1199</td>\n",
       "      <td>-0.4099</td>\n",
       "      <td>-2.9336</td>\n",
       "    </tr>\n",
       "    <tr>\n",
       "      <th>4</th>\n",
       "      <td>0</td>\n",
       "      <td>0</td>\n",
       "      <td>0.4814</td>\n",
       "      <td>-0.9312</td>\n",
       "      <td>0.0359</td>\n",
       "      <td>0.0527</td>\n",
       "      <td>0.4379</td>\n",
       "      <td>2.4922</td>\n",
       "    </tr>\n",
       "    <tr>\n",
       "      <th>5</th>\n",
       "      <td>0</td>\n",
       "      <td>0</td>\n",
       "      <td>0.4044</td>\n",
       "      <td>-0.8056</td>\n",
       "      <td>-0.0956</td>\n",
       "      <td>0.6925</td>\n",
       "      <td>-0.2179</td>\n",
       "      <td>2.5750</td>\n",
       "    </tr>\n",
       "    <tr>\n",
       "      <th>6</th>\n",
       "      <td>0</td>\n",
       "      <td>0</td>\n",
       "      <td>0.6320</td>\n",
       "      <td>-1.1290</td>\n",
       "      <td>-0.2982</td>\n",
       "      <td>0.0548</td>\n",
       "      <td>-0.1896</td>\n",
       "      <td>0.4473</td>\n",
       "    </tr>\n",
       "    <tr>\n",
       "      <th>7</th>\n",
       "      <td>0</td>\n",
       "      <td>0</td>\n",
       "      <td>0.6670</td>\n",
       "      <td>-1.3503</td>\n",
       "      <td>-0.0880</td>\n",
       "      <td>-0.8094</td>\n",
       "      <td>-0.7938</td>\n",
       "      <td>-1.4348</td>\n",
       "    </tr>\n",
       "    <tr>\n",
       "      <th>8</th>\n",
       "      <td>0</td>\n",
       "      <td>0</td>\n",
       "      <td>0.2704</td>\n",
       "      <td>-0.8633</td>\n",
       "      <td>0.1293</td>\n",
       "      <td>-0.4173</td>\n",
       "      <td>-0.1904</td>\n",
       "      <td>-2.6759</td>\n",
       "    </tr>\n",
       "    <tr>\n",
       "      <th>9</th>\n",
       "      <td>0</td>\n",
       "      <td>0</td>\n",
       "      <td>0.4690</td>\n",
       "      <td>-1.0740</td>\n",
       "      <td>0.0219</td>\n",
       "      <td>0.0388</td>\n",
       "      <td>1.1491</td>\n",
       "      <td>1.6982</td>\n",
       "    </tr>\n",
       "  </tbody>\n",
       "</table>\n",
       "</div>"
      ],
      "text/plain": [
       "   wrist  activity  acceleration_x  acceleration_y  acceleration_z  gyro_x  \\\n",
       "0      0         0          0.2650         -0.7814         -0.0076 -0.0590   \n",
       "1      0         0          0.6722         -1.1233         -0.2344 -0.1757   \n",
       "2      0         0          0.4399         -1.4817          0.0722 -0.9105   \n",
       "3      0         0          0.3031         -0.8125          0.0888  0.1199   \n",
       "4      0         0          0.4814         -0.9312          0.0359  0.0527   \n",
       "5      0         0          0.4044         -0.8056         -0.0956  0.6925   \n",
       "6      0         0          0.6320         -1.1290         -0.2982  0.0548   \n",
       "7      0         0          0.6670         -1.3503         -0.0880 -0.8094   \n",
       "8      0         0          0.2704         -0.8633          0.1293 -0.4173   \n",
       "9      0         0          0.4690         -1.0740          0.0219  0.0388   \n",
       "\n",
       "   gyro_y  gyro_z  \n",
       "0  0.0325 -2.9296  \n",
       "1  0.0208  0.1269  \n",
       "2  0.1063 -2.4367  \n",
       "3 -0.4099 -2.9336  \n",
       "4  0.4379  2.4922  \n",
       "5 -0.2179  2.5750  \n",
       "6 -0.1896  0.4473  \n",
       "7 -0.7938 -1.4348  \n",
       "8 -0.1904 -2.6759  \n",
       "9  1.1491  1.6982  "
      ]
     },
     "execution_count": 7,
     "metadata": {},
     "output_type": "execute_result"
    }
   ],
   "source": [
    "new_data = data.copy(deep = True)\n",
    "new_data = new_data.drop(columns=['date','time', 'username'])\n",
    "new_data.head(10)"
   ]
  },
  {
   "cell_type": "markdown",
   "id": "a729179b",
   "metadata": {
    "papermill": {
     "duration": 0.01091,
     "end_time": "2024-02-27T19:16:31.784317",
     "exception": false,
     "start_time": "2024-02-27T19:16:31.773407",
     "status": "completed"
    },
    "tags": []
   },
   "source": [
    "Lets visualize the data."
   ]
  },
  {
   "cell_type": "code",
   "execution_count": 8,
   "id": "c17d5139",
   "metadata": {
    "execution": {
     "iopub.execute_input": "2024-02-27T19:16:31.809063Z",
     "iopub.status.busy": "2024-02-27T19:16:31.808236Z",
     "iopub.status.idle": "2024-02-27T19:16:32.156304Z",
     "shell.execute_reply": "2024-02-27T19:16:32.155240Z"
    },
    "papermill": {
     "duration": 0.363844,
     "end_time": "2024-02-27T19:16:32.159343",
     "exception": false,
     "start_time": "2024-02-27T19:16:31.795499",
     "status": "completed"
    },
    "tags": []
   },
   "outputs": [
    {
     "data": {
      "text/plain": [
       "[Text(0, 0, 'Walking'), Text(1, 0, 'Running')]"
      ]
     },
     "execution_count": 8,
     "metadata": {},
     "output_type": "execute_result"
    },
    {
     "data": {
      "image/png": "[encoded data removed]",
      "text/plain": [
       "<Figure size 2000x500 with 2 Axes>"
      ]
     },
     "metadata": {},
     "output_type": "display_data"
    }
   ],
   "source": [
    "walking = len(data[data['activity'] == 0]) / len(new_data) * 100\n",
    "running = len(data[data['activity'] == 1]) / len(new_data) * 100\n",
    "activity_percentage = [walking,running]\n",
    "\n",
    "fig,ax = plt.subplots(nrows = 1,ncols = 2,figsize = (20,5))\n",
    "plt.subplot(1,2,1)\n",
    "plt.pie(activity_percentage,labels = ['Walking','Running'],autopct='%1.1f%%',startangle = 90,\n",
    "       wedgeprops = {'edgecolor' : 'black','linewidth': 1,'antialiased' : True})\n",
    "\n",
    "plt.subplot(1,2,2)\n",
    "ax = sns.countplot(x = 'activity',data = new_data,edgecolor = 'black')\n",
    "for rect in ax.patches:\n",
    "    ax.text(rect.get_x() + rect.get_width() / 2, rect.get_height() + 2, rect.get_height(), horizontalalignment='center', fontsize = 11)\n",
    "\n",
    "ax.set_xticklabels(['Walking','Running'])"
   ]
  },
  {
   "cell_type": "markdown",
   "id": "f7233f60",
   "metadata": {
    "papermill": {
     "duration": 0.011582,
     "end_time": "2024-02-27T19:16:32.182893",
     "exception": false,
     "start_time": "2024-02-27T19:16:32.171311",
     "status": "completed"
    },
    "tags": []
   },
   "source": [
    "We do not have unbalanced data problem. This is great!!"
   ]
  },
  {
   "cell_type": "markdown",
   "id": "f2eb35ca",
   "metadata": {
    "papermill": {
     "duration": 0.012681,
     "end_time": "2024-02-27T19:16:32.207637",
     "exception": false,
     "start_time": "2024-02-27T19:16:32.194956",
     "status": "completed"
    },
    "tags": []
   },
   "source": [
    "Lets take a look in how the features are related with the target (activity).\n",
    "\n",
    "- A heatmap of the correlation matrix can show how each feature correlates with the target variable. Positive correlations are usually represented by warmer colors (e.g., shades of red), while negative correlations are represented by cooler colors (e.g., shades of blue).\n",
    "\n",
    "- PairPlot: A pairplot can be useful to visualize the relationships between pairs of features along with the distribution of each feature. You can color the points based on the target variable to see how it relates to different features. It's useful if you have few features."
   ]
  },
  {
   "cell_type": "code",
   "execution_count": 9,
   "id": "0975723b",
   "metadata": {
    "execution": {
     "iopub.execute_input": "2024-02-27T19:16:32.234228Z",
     "iopub.status.busy": "2024-02-27T19:16:32.233318Z",
     "iopub.status.idle": "2024-02-27T19:16:32.771057Z",
     "shell.execute_reply": "2024-02-27T19:16:32.769889Z"
    },
    "papermill": {
     "duration": 0.554469,
     "end_time": "2024-02-27T19:16:32.774103",
     "exception": false,
     "start_time": "2024-02-27T19:16:32.219634",
     "status": "completed"
    },
    "tags": []
   },
   "outputs": [
    {
     "data": {
      "image/png": "[encoded data removed]",
      "text/plain": [
       "<Figure size 1000x800 with 2 Axes>"
      ]
     },
     "metadata": {},
     "output_type": "display_data"
    }
   ],
   "source": [
    "#Correlation Heatmap\n",
    "correlation_matrix = new_data.corr()\n",
    "plt.figure(figsize=(10, 8))\n",
    "sns.heatmap(correlation_matrix, annot=True, cmap='coolwarm', fmt=\".2f\")\n",
    "plt.title('Correlation Heatmap')\n",
    "plt.show()"
   ]
  },
  {
   "cell_type": "markdown",
   "id": "d4623a06",
   "metadata": {
    "papermill": {
     "duration": 0.013133,
     "end_time": "2024-02-27T19:16:32.800556",
     "exception": false,
     "start_time": "2024-02-27T19:16:32.787423",
     "status": "completed"
    },
    "tags": []
   },
   "source": [
    "- Apparently the variables 'acceleration_' are more related to 'activity'. 'giro_' variables are not strong correlated to 'activity'.\n",
    "\n",
    "- Lets create a new dataset but dropping 'giro_' variables.  \n",
    "\n",
    "- In this case, we will create 2 models based on features with 'gyro_' variable and without 'gyro_' variables.\n",
    "\n",
    "- **The accuracy of these two models should be very similar**"
   ]
  },
  {
   "cell_type": "markdown",
   "id": "d97b902b",
   "metadata": {
    "papermill": {
     "duration": 0.012905,
     "end_time": "2024-02-27T19:16:32.826852",
     "exception": false,
     "start_time": "2024-02-27T19:16:32.813947",
     "status": "completed"
    },
    "tags": []
   },
   "source": [
    "**Dataset with 'giro_' variables rejected**"
   ]
  },
  {
   "cell_type": "code",
   "execution_count": 10,
   "id": "8aa5f7d7",
   "metadata": {
    "execution": {
     "iopub.execute_input": "2024-02-27T19:16:32.855489Z",
     "iopub.status.busy": "2024-02-27T19:16:32.854444Z",
     "iopub.status.idle": "2024-02-27T19:16:32.875448Z",
     "shell.execute_reply": "2024-02-27T19:16:32.874303Z"
    },
    "papermill": {
     "duration": 0.03798,
     "end_time": "2024-02-27T19:16:32.877909",
     "exception": false,
     "start_time": "2024-02-27T19:16:32.839929",
     "status": "completed"
    },
    "tags": []
   },
   "outputs": [
    {
     "data": {
      "text/html": [
       "<div>\n",
       "<style scoped>\n",
       "    .dataframe tbody tr th:only-of-type {\n",
       "        vertical-align: middle;\n",
       "    }\n",
       "\n",
       "    .dataframe tbody tr th {\n",
       "        vertical-align: top;\n",
       "    }\n",
       "\n",
       "    .dataframe thead th {\n",
       "        text-align: right;\n",
       "    }\n",
       "</style>\n",
       "<table border=\"1\" class=\"dataframe\">\n",
       "  <thead>\n",
       "    <tr style=\"text-align: right;\">\n",
       "      <th></th>\n",
       "      <th>wrist</th>\n",
       "      <th>activity</th>\n",
       "      <th>acceleration_x</th>\n",
       "      <th>acceleration_y</th>\n",
       "      <th>acceleration_z</th>\n",
       "    </tr>\n",
       "  </thead>\n",
       "  <tbody>\n",
       "    <tr>\n",
       "      <th>0</th>\n",
       "      <td>0</td>\n",
       "      <td>0</td>\n",
       "      <td>0.2650</td>\n",
       "      <td>-0.7814</td>\n",
       "      <td>-0.0076</td>\n",
       "    </tr>\n",
       "    <tr>\n",
       "      <th>1</th>\n",
       "      <td>0</td>\n",
       "      <td>0</td>\n",
       "      <td>0.6722</td>\n",
       "      <td>-1.1233</td>\n",
       "      <td>-0.2344</td>\n",
       "    </tr>\n",
       "    <tr>\n",
       "      <th>2</th>\n",
       "      <td>0</td>\n",
       "      <td>0</td>\n",
       "      <td>0.4399</td>\n",
       "      <td>-1.4817</td>\n",
       "      <td>0.0722</td>\n",
       "    </tr>\n",
       "    <tr>\n",
       "      <th>3</th>\n",
       "      <td>0</td>\n",
       "      <td>0</td>\n",
       "      <td>0.3031</td>\n",
       "      <td>-0.8125</td>\n",
       "      <td>0.0888</td>\n",
       "    </tr>\n",
       "    <tr>\n",
       "      <th>4</th>\n",
       "      <td>0</td>\n",
       "      <td>0</td>\n",
       "      <td>0.4814</td>\n",
       "      <td>-0.9312</td>\n",
       "      <td>0.0359</td>\n",
       "    </tr>\n",
       "  </tbody>\n",
       "</table>\n",
       "</div>"
      ],
      "text/plain": [
       "   wrist  activity  acceleration_x  acceleration_y  acceleration_z\n",
       "0      0         0          0.2650         -0.7814         -0.0076\n",
       "1      0         0          0.6722         -1.1233         -0.2344\n",
       "2      0         0          0.4399         -1.4817          0.0722\n",
       "3      0         0          0.3031         -0.8125          0.0888\n",
       "4      0         0          0.4814         -0.9312          0.0359"
      ]
     },
     "execution_count": 10,
     "metadata": {},
     "output_type": "execute_result"
    }
   ],
   "source": [
    "new_data2 = new_data.copy(deep = True)\n",
    "new_data2 = new_data2.drop(columns=['gyro_x','gyro_y', 'gyro_z'])\n",
    "new_data2.head()"
   ]
  },
  {
   "cell_type": "markdown",
   "id": "a69edbe5",
   "metadata": {
    "papermill": {
     "duration": 0.01307,
     "end_time": "2024-02-27T19:16:32.904467",
     "exception": false,
     "start_time": "2024-02-27T19:16:32.891397",
     "status": "completed"
    },
    "tags": []
   },
   "source": [
    "**Modeling**\n",
    "\n",
    "- Its binary classification problem;\n",
    "\n",
    "- I will use logistic regression from scikit-learning"
   ]
  },
  {
   "cell_type": "code",
   "execution_count": 11,
   "id": "8151bf1f",
   "metadata": {
    "execution": {
     "iopub.execute_input": "2024-02-27T19:16:32.933128Z",
     "iopub.status.busy": "2024-02-27T19:16:32.932686Z",
     "iopub.status.idle": "2024-02-27T19:16:32.945992Z",
     "shell.execute_reply": "2024-02-27T19:16:32.944861Z"
    },
    "papermill": {
     "duration": 0.030545,
     "end_time": "2024-02-27T19:16:32.948519",
     "exception": false,
     "start_time": "2024-02-27T19:16:32.917974",
     "status": "completed"
    },
    "tags": []
   },
   "outputs": [
    {
     "name": "stdout",
     "output_type": "stream",
     "text": [
      "(88588,)\n",
      "(88588, 7)\n",
      "(88588,)\n",
      "(88588, 4)\n"
     ]
    }
   ],
   "source": [
    "y1 = new_data['activity']\n",
    "X1 = new_data.drop('activity', axis= 1)\n",
    "\n",
    "y2 = new_data2['activity']\n",
    "X2 = new_data2.drop('activity', axis= 1 )\n",
    "\n",
    "print(y1.shape)\n",
    "print(X1.shape)\n",
    "print(y2.shape)\n",
    "print(X2.shape)"
   ]
  },
  {
   "cell_type": "code",
   "execution_count": 12,
   "id": "b13b4ffb",
   "metadata": {
    "execution": {
     "iopub.execute_input": "2024-02-27T19:16:32.978442Z",
     "iopub.status.busy": "2024-02-27T19:16:32.977319Z",
     "iopub.status.idle": "2024-02-27T19:16:33.005347Z",
     "shell.execute_reply": "2024-02-27T19:16:33.004309Z"
    },
    "papermill": {
     "duration": 0.046015,
     "end_time": "2024-02-27T19:16:33.008165",
     "exception": false,
     "start_time": "2024-02-27T19:16:32.962150",
     "status": "completed"
    },
    "tags": []
   },
   "outputs": [],
   "source": [
    "scaler = MinMaxScaler()\n",
    "X1_norm = scaler.fit_transform(X1)\n",
    "X2_norm = scaler.fit_transform(X2)"
   ]
  },
  {
   "cell_type": "code",
   "execution_count": 13,
   "id": "d1e3a770",
   "metadata": {
    "execution": {
     "iopub.execute_input": "2024-02-27T19:16:33.038163Z",
     "iopub.status.busy": "2024-02-27T19:16:33.037296Z",
     "iopub.status.idle": "2024-02-27T19:16:33.069250Z",
     "shell.execute_reply": "2024-02-27T19:16:33.068024Z"
    },
    "papermill": {
     "duration": 0.049991,
     "end_time": "2024-02-27T19:16:33.072176",
     "exception": false,
     "start_time": "2024-02-27T19:16:33.022185",
     "status": "completed"
    },
    "tags": []
   },
   "outputs": [],
   "source": [
    "x_train1, x_test1, y_train1, y_test1 = train_test_split(X1_norm, y1, test_size = 0.30, random_state = 2)\n",
    "x_train2, x_test2, y_train2, y_test2 = train_test_split(X2_norm, y2, test_size = 0.30, random_state = 2)"
   ]
  },
  {
   "cell_type": "code",
   "execution_count": 14,
   "id": "25fbc2e7",
   "metadata": {
    "execution": {
     "iopub.execute_input": "2024-02-27T19:16:33.102780Z",
     "iopub.status.busy": "2024-02-27T19:16:33.102074Z",
     "iopub.status.idle": "2024-02-27T19:16:33.107025Z",
     "shell.execute_reply": "2024-02-27T19:16:33.105881Z"
    },
    "papermill": {
     "duration": 0.023365,
     "end_time": "2024-02-27T19:16:33.109297",
     "exception": false,
     "start_time": "2024-02-27T19:16:33.085932",
     "status": "completed"
    },
    "tags": []
   },
   "outputs": [],
   "source": [
    "binaryModel1 = LogisticRegression()\n",
    "binaryModel2 = LogisticRegression()"
   ]
  },
  {
   "cell_type": "code",
   "execution_count": 15,
   "id": "b8706e0a",
   "metadata": {
    "execution": {
     "iopub.execute_input": "2024-02-27T19:16:33.139085Z",
     "iopub.status.busy": "2024-02-27T19:16:33.138463Z",
     "iopub.status.idle": "2024-02-27T19:16:33.671428Z",
     "shell.execute_reply": "2024-02-27T19:16:33.669967Z"
    },
    "papermill": {
     "duration": 0.552409,
     "end_time": "2024-02-27T19:16:33.675511",
     "exception": false,
     "start_time": "2024-02-27T19:16:33.123102",
     "status": "completed"
    },
    "tags": []
   },
   "outputs": [
    {
     "name": "stdout",
     "output_type": "stream",
     "text": [
      "Scores model 1: 86%\n"
     ]
    }
   ],
   "source": [
    "model1 = binaryModel1.fit(x_train1,y_train1)\n",
    "scores1 = binaryModel1.score(x_test1,y_test1)\n",
    "print(f\"Scores model 1: {round(scores1*100)}%\")"
   ]
  },
  {
   "cell_type": "code",
   "execution_count": 16,
   "id": "0506ab94",
   "metadata": {
    "execution": {
     "iopub.execute_input": "2024-02-27T19:16:33.745474Z",
     "iopub.status.busy": "2024-02-27T19:16:33.744862Z",
     "iopub.status.idle": "2024-02-27T19:16:34.018631Z",
     "shell.execute_reply": "2024-02-27T19:16:34.017429Z"
    },
    "papermill": {
     "duration": 0.317461,
     "end_time": "2024-02-27T19:16:34.022385",
     "exception": false,
     "start_time": "2024-02-27T19:16:33.704924",
     "status": "completed"
    },
    "tags": []
   },
   "outputs": [
    {
     "name": "stdout",
     "output_type": "stream",
     "text": [
      "Scores model 2: 86%\n"
     ]
    }
   ],
   "source": [
    "model2 = binaryModel2.fit(x_train2,y_train2)\n",
    "scores2 = binaryModel2.score(x_train2,y_train2)\n",
    "print(f\"Scores model 2: {round(scores2*100)}%\")"
   ]
  },
  {
   "cell_type": "markdown",
   "id": "b5c409f0",
   "metadata": {
    "papermill": {
     "duration": 0.028769,
     "end_time": "2024-02-27T19:16:34.081155",
     "exception": false,
     "start_time": "2024-02-27T19:16:34.052386",
     "status": "completed"
    },
    "tags": []
   },
   "source": [
    "**Lets take a look at ways to evaluate our model.**"
   ]
  },
  {
   "cell_type": "code",
   "execution_count": 17,
   "id": "973973d6",
   "metadata": {
    "execution": {
     "iopub.execute_input": "2024-02-27T19:16:34.131501Z",
     "iopub.status.busy": "2024-02-27T19:16:34.131100Z",
     "iopub.status.idle": "2024-02-27T19:16:34.136448Z",
     "shell.execute_reply": "2024-02-27T19:16:34.135595Z"
    },
    "papermill": {
     "duration": 0.028161,
     "end_time": "2024-02-27T19:16:34.138473",
     "exception": false,
     "start_time": "2024-02-27T19:16:34.110312",
     "status": "completed"
    },
    "tags": []
   },
   "outputs": [],
   "source": [
    "from sklearn.metrics import accuracy_score, classification_report, confusion_matrix\n",
    "from sklearn.model_selection import cross_val_score\n",
    "from sklearn.metrics import roc_curve, auc\n",
    "from sklearn import metrics"
   ]
  },
  {
   "cell_type": "code",
   "execution_count": 18,
   "id": "f0ce18ac",
   "metadata": {
    "execution": {
     "iopub.execute_input": "2024-02-27T19:16:34.169115Z",
     "iopub.status.busy": "2024-02-27T19:16:34.167970Z",
     "iopub.status.idle": "2024-02-27T19:16:34.239443Z",
     "shell.execute_reply": "2024-02-27T19:16:34.238020Z"
    },
    "papermill": {
     "duration": 0.091076,
     "end_time": "2024-02-27T19:16:34.243391",
     "exception": false,
     "start_time": "2024-02-27T19:16:34.152315",
     "status": "completed"
    },
    "tags": []
   },
   "outputs": [
    {
     "name": "stdout",
     "output_type": "stream",
     "text": [
      "accuracy model 1:  0.8619859276818301\n",
      "precision model 1:  0.9046805603006491\n",
      "recall model 1:  0.8058429701765064\n"
     ]
    }
   ],
   "source": [
    "#model 1 \n",
    "y1_pred = binaryModel1.predict(x_test1)\n",
    "\n",
    "print('accuracy model 1: ',metrics.accuracy_score(y_test1,y1_pred))\n",
    "print('precision model 1: ',metrics.precision_score(y_test1,y1_pred))\n",
    "print('recall model 1: ',metrics.recall_score(y_test1,y1_pred))"
   ]
  },
  {
   "cell_type": "code",
   "execution_count": 19,
   "id": "862aeb0b",
   "metadata": {
    "execution": {
     "iopub.execute_input": "2024-02-27T19:16:34.300847Z",
     "iopub.status.busy": "2024-02-27T19:16:34.300088Z",
     "iopub.status.idle": "2024-02-27T19:16:34.372148Z",
     "shell.execute_reply": "2024-02-27T19:16:34.370634Z"
    },
    "papermill": {
     "duration": 0.103315,
     "end_time": "2024-02-27T19:16:34.376998",
     "exception": false,
     "start_time": "2024-02-27T19:16:34.273683",
     "status": "completed"
    },
    "tags": []
   },
   "outputs": [
    {
     "name": "stdout",
     "output_type": "stream",
     "text": [
      "accuracy model 2:  0.8602551077999774\n",
      "precision model 2:  0.902991452991453\n",
      "recall model 2:  0.8037888009738283\n"
     ]
    }
   ],
   "source": [
    "#model 2\n",
    "y2_pred = binaryModel2.predict(x_test2)\n",
    "\n",
    "print('accuracy model 2: ',metrics.accuracy_score(y_test2,y2_pred))\n",
    "print('precision model 2: ',metrics.precision_score(y_test2,y2_pred))\n",
    "print('recall model 2: ',metrics.recall_score(y_test2,y2_pred))"
   ]
  },
  {
   "cell_type": "markdown",
   "id": "7cdf786f",
   "metadata": {
    "papermill": {
     "duration": 0.024019,
     "end_time": "2024-02-27T19:16:34.431224",
     "exception": false,
     "start_time": "2024-02-27T19:16:34.407205",
     "status": "completed"
    },
    "tags": []
   },
   "source": [
    "**As we mentioned, ignoring factors related to 'gyro_' does not affect the model in any way.**"
   ]
  },
  {
   "cell_type": "code",
   "execution_count": 20,
   "id": "9650de8c",
   "metadata": {
    "execution": {
     "iopub.execute_input": "2024-02-27T19:16:34.462398Z",
     "iopub.status.busy": "2024-02-27T19:16:34.461956Z",
     "iopub.status.idle": "2024-02-27T19:16:34.730560Z",
     "shell.execute_reply": "2024-02-27T19:16:34.729403Z"
    },
    "papermill": {
     "duration": 0.286642,
     "end_time": "2024-02-27T19:16:34.733090",
     "exception": false,
     "start_time": "2024-02-27T19:16:34.446448",
     "status": "completed"
    },
    "tags": []
   },
   "outputs": [
    {
     "name": "stdout",
     "output_type": "stream",
     "text": [
      "Confusion Matrix:\n"
     ]
    },
    {
     "data": {
      "text/plain": [
       "<Axes: >"
      ]
     },
     "execution_count": 20,
     "metadata": {},
     "output_type": "execute_result"
    },
    {
     "data": {
      "image/png": "[encoded data removed]",
      "text/plain": [
       "<Figure size 640x480 with 2 Axes>"
      ]
     },
     "metadata": {},
     "output_type": "display_data"
    }
   ],
   "source": [
    "#accuracy_test = accuracy_score(y_test1, y1_pred)\n",
    "#print(f'Accuracy: {accuracy_test}')\n",
    "#print('\\nClassification Report:\\n', classification_report(y_test1, y1_pred))\n",
    "\n",
    "cm = confusion_matrix(y_test1, y1_pred)\n",
    "print(\"Confusion Matrix:\")\n",
    "names = ['True Neg','False Pos','False Neg','True Pos']\n",
    "counts = [value for value in cm.flatten()]\n",
    "percentages = ['{0:.2%}'.format(value) for value in cm.flatten()/np.sum(cm)]\n",
    "labels = [f'{v1}\\n{v2}\\n{v3}' for v1, v2, v3 in zip(names,counts,percentages)]\n",
    "labels = np.asarray(labels).reshape(2,2)\n",
    "sns.heatmap(cm,annot = labels,cmap = 'Blues',fmt ='')"
   ]
  },
  {
   "cell_type": "code",
   "execution_count": 21,
   "id": "f0601379",
   "metadata": {
    "execution": {
     "iopub.execute_input": "2024-02-27T19:16:34.764797Z",
     "iopub.status.busy": "2024-02-27T19:16:34.764023Z",
     "iopub.status.idle": "2024-02-27T19:16:34.769321Z",
     "shell.execute_reply": "2024-02-27T19:16:34.768310Z"
    },
    "papermill": {
     "duration": 0.023665,
     "end_time": "2024-02-27T19:16:34.771521",
     "exception": false,
     "start_time": "2024-02-27T19:16:34.747856",
     "status": "completed"
    },
    "tags": []
   },
   "outputs": [],
   "source": [
    "#scores_model1 = cross_val_score(binaryModel1, x_train1, y_train1, cv=5, scoring='roc_auc')\n",
    "#print('Cross-Validation Accuracy Scores model 1:', scores_model1)\n",
    "#print('Mean Accuracy model 1:', np.mean(scores_model1))\n",
    "\n",
    "#scores_model2 = cross_val_score(binaryModel2, x_train2, y_train2, cv=5, scoring='roc_auc')\n",
    "#print('Cross-Validation Accuracy Scores model 1:', scores_model2)\n",
    "#print('Mean Accuracy model 2:', np.mean(scores_model2))"
   ]
  },
  {
   "cell_type": "code",
   "execution_count": 22,
   "id": "33e95fa4",
   "metadata": {
    "execution": {
     "iopub.execute_input": "2024-02-27T19:16:34.803158Z",
     "iopub.status.busy": "2024-02-27T19:16:34.802708Z",
     "iopub.status.idle": "2024-02-27T19:16:35.108146Z",
     "shell.execute_reply": "2024-02-27T19:16:35.106838Z"
    },
    "papermill": {
     "duration": 0.324399,
     "end_time": "2024-02-27T19:16:35.110614",
     "exception": false,
     "start_time": "2024-02-27T19:16:34.786215",
     "status": "completed"
    },
    "tags": []
   },
   "outputs": [
    {
     "data": {
      "image/png": "[encoded data removed]",
      "text/plain": [
       "<Figure size 500x500 with 1 Axes>"
      ]
     },
     "metadata": {},
     "output_type": "display_data"
    }
   ],
   "source": [
    "y1_pred_prob = binaryModel1.predict_proba(x_test1)[:, 1]\n",
    "\n",
    "fpr, tpr, thresholds = roc_curve(y_test1,y1_pred_prob)\n",
    "roc_auc = auc(fpr, tpr)\n",
    "\n",
    "# Plot ROC curve\n",
    "plt.figure(figsize=(5, 5))\n",
    "plt.plot(fpr, tpr, color='darkorange', lw=2, label='ROC curve (AUC = {:.2f})'.format(roc_auc))\n",
    "plt.plot([0, 1], [0, 1], color='navy', lw=2, linestyle='--')\n",
    "plt.xlabel('False Positive Rate')\n",
    "plt.ylabel('True Positive Rate')\n",
    "plt.title('Receiver Operating Characteristic (ROC) Curve')\n",
    "plt.legend(loc='lower right')\n",
    "plt.show()"
   ]
  }
 ],
 "metadata": {
  "kaggle": {
   "accelerator": "none",
   "dataSources": [
    {
     "datasetId": 1843111,
     "sourceId": 3008902,
     "sourceType": "datasetVersion"
    }
   ],
   "dockerImageVersionId": 30646,
   "isGpuEnabled": false,
   "isInternetEnabled": false,
   "language": "python",
   "sourceType": "notebook"
  },
  "kernelspec": {
   "display_name": "Python 3",
   "language": "python",
   "name": "python3"
  },
  "language_info": {
   "codemirror_mode": {
    "name": "ipython",
    "version": 3
   },
   "file_extension": ".py",
   "mimetype": "text/x-python",
   "name": "python",
   "nbconvert_exporter": "python",
   "pygments_lexer": "ipython3",
   "version": "3.10.13"
  },
  "papermill": {
   "default_parameters": {},
   "duration": 10.982546,
   "end_time": "2024-02-27T19:16:35.847070",
   "environment_variables": {},
   "exception": null,
   "input_path": "__notebook__.ipynb",
   "output_path": "__notebook__.ipynb",
   "parameters": {},
   "start_time": "2024-02-27T19:16:24.864524",
   "version": "2.5.0"
  }
 },
 "nbformat": 4,
 "nbformat_minor": 5
}
